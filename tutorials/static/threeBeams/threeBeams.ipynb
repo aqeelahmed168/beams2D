{
 "cells": [
  {
   "cell_type": "markdown",
   "id": "929017e2-4c28-4966-b395-6081d8f196c6",
   "metadata": {
    "tags": []
   },
   "source": [
    "# Three Beams Example with Beams2D\n",
    "\n",
    "Example description\n",
    "![threeBeamsSchema.jpg](figures/threeBeamsSchema.jpg)"
   ]
  },
  {
   "cell_type": "code",
   "execution_count": null,
   "id": "74b7c725-66eb-49ca-bbd6-0bf2b8c08d62",
   "metadata": {},
   "outputs": [],
   "source": [
    "import beams2D as b2d\n",
    "from beams2D import PrettyPrint as pp\n",
    "\n",
    "# inputs based on an example in the book: \n",
    "#  JM, Antonio. MATLAB Codes for Finite Element Analysis: Solids and Structures.\n",
    "\n",
    "# Read the inputs in the inputsB2D object\n",
    "# inputsB2D = b2d.Inputs(infile=\"inputs.json\")\n",
    "inputsB2D = b2d.Inputs(infile=\"inputs.json\")\n",
    "\n",
    "geom = b2d.Geom(inputsB2D.geom)\n",
    "geom.process(printDebugMessage=0)\n",
    "\n",
    "mesh = b2d.Mesh(inputsB2D.mesh)\n",
    "mesh.process(geom, printDebugMessage=0, printMeshInfo=0)\n",
    "#mesh.writeVTK()"
   ]
  },
  {
   "cell_type": "code",
   "execution_count": null,
   "id": "7d93695e-5696-401e-a8b2-401014344412",
   "metadata": {},
   "outputs": [],
   "source": [
    "# print details of inputs\n",
    "pp.printInputs(inputsB2D, 'geom', title='Geometry/Structures Inputs')\n",
    "pp.printInputs(inputsB2D, 'mesh', title='Mesh Inputs')\n",
    "pp.printInputs(inputsB2D, 'strucParams', title='Strucutural Properties Inputs')\n",
    "pp.printInputs(inputsB2D, 'bcs', title='Boundary Conditions Inputs')\n",
    "pp.printInputs(inputsB2D, 'staticPointLoads', title='Static Point Loads Inputs')"
   ]
  },
  {
   "cell_type": "code",
   "execution_count": null,
   "id": "e042ce6f-d80f-4727-acaa-14363e35aca0",
   "metadata": {},
   "outputs": [],
   "source": [
    "# assemble the system using a given element type\n",
    "sysB2D = b2d.Assemble(mesh)\n",
    "# build the global stiffness matrix \n",
    "sysB2D.buildGlobalMK(inputsB2D.strucParams, elemType=\"EBF\")\n",
    "\n",
    "# apply boundary conditions and get effective DOFs\n",
    "sysB2D.applyBoundaryConditions(inputsB2D.bcs)\n",
    "# print fixed nodes\n",
    "# pp.printMatrix(sysB2D.fixedNodes, text='Fixed Nodes')\n",
    "# pp.printMatrix(sysB2D.pinnedNodes)"
   ]
  },
  {
   "cell_type": "code",
   "execution_count": null,
   "id": "0fbbf145-b319-4628-aa80-89f666d08f6e",
   "metadata": {},
   "outputs": [],
   "source": [
    "sysB2D.applyLoads(inputsB2D.staticPointLoads)\n",
    "sysB2D.computeStaticDeformations()\n",
    "sysB2D.computeElementReactions()"
   ]
  },
  {
   "cell_type": "code",
   "execution_count": null,
   "id": "6ab4201d-1c94-4df5-b08c-74b3229a9c0c",
   "metadata": {},
   "outputs": [],
   "source": [
    "sysB2D.writeStaticDeformationsVTK(scale=50)"
   ]
  },
  {
   "cell_type": "code",
   "execution_count": null,
   "id": "d85c9ec4-4fbb-4827-9ce4-e2a7e72a8706",
   "metadata": {},
   "outputs": [],
   "source": [
    "import beams2D as b2d\n",
    "\n",
    "# Read the inputs in the inputsB2D object\n",
    "inputsB2D = b2d.Inputs(infile=\"inputs.json\")\n",
    "\n",
    "geom = b2d.Geom(inputsB2D.geom)\n",
    "geom.process(printDebugMessage=0)\n",
    "\n",
    "mesh = b2d.Mesh(inputsB2D.mesh)\n",
    "mesh.process(geom, printDebugMessage=0, printMeshInfo=0)\n",
    "\n",
    "# assemble the system using a given element type\n",
    "sysB2D = b2d.Assemble(mesh)\n",
    "# build the global stiffness/mass matrix with Euler Bernoulli Frame type element\n",
    "sysB2D.buildGlobalMK(inputsB2D.strucParams, elemType=\"EBF\")\n",
    "\n",
    "# apply boundary conditions and get effective DOFs\n",
    "sysB2D.applyBoundaryConditions(inputsB2D.bcs)\n",
    "\n",
    "sysB2D.applyLoads(inputsB2D.staticPointLoads)\n",
    "sysB2D.computeStaticDeformations()\n",
    "sysB2D.computeElementReactions()\n",
    "\n",
    "sysB2D.writeStaticDeformationsVTK(scale=50)"
   ]
  }
 ],
 "metadata": {
  "kernelspec": {
   "display_name": "Python 3 (ipykernel)",
   "language": "python",
   "name": "python3"
  },
  "language_info": {
   "codemirror_mode": {
    "name": "ipython",
    "version": 3
   },
   "file_extension": ".py",
   "mimetype": "text/x-python",
   "name": "python",
   "nbconvert_exporter": "python",
   "pygments_lexer": "ipython3",
   "version": "3.9.13"
  },
  "toc-autonumbering": true,
  "toc-showcode": false,
  "toc-showmarkdowntxt": true
 },
 "nbformat": 4,
 "nbformat_minor": 5
}
