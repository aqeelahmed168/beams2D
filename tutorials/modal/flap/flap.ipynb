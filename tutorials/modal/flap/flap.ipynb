{
 "cells": [
  {
   "cell_type": "markdown",
   "id": "929017e2-4c28-4966-b395-6081d8f196c6",
   "metadata": {
    "tags": []
   },
   "source": [
    "# Flap with Beams2D"
   ]
  },
  {
   "cell_type": "code",
   "execution_count": null,
   "id": "4b22601f-eeec-4fac-b2f4-8c8263b028fc",
   "metadata": {},
   "outputs": [],
   "source": [
    "import beams2D as b2d\n",
    "from beams2D import PrettyPrint as pp\n",
    "\n",
    "# Read the inputs in the inputsB2D object\n",
    "inputsB2D = b2d.Inputs(infile=\"inputs.json\")\n",
    "\n",
    "geom = b2d.Geom(inputsB2D.geom)\n",
    "geom.process(printDebugMessage=0)"
   ]
  },
  {
   "cell_type": "code",
   "execution_count": null,
   "id": "f4c1a93b-5b69-4571-ad73-30129b179cd0",
   "metadata": {},
   "outputs": [],
   "source": [
    "\n",
    "\n",
    "mesh = b2d.Mesh(inputsB2D.mesh)\n",
    "mesh.process(geom, printDebugMessage=0, printMeshInfo=0)\n",
    "#mesh.writeVTK()\n",
    "\n",
    "#print details of inputs\n",
    "pp.printInputs(inputsB2D, 'geom', title='Geometry/Structures Inputs')\n",
    "pp.printInputs(inputsB2D, 'mesh', title='Mesh Inputs')\n",
    "pp.printInputs(inputsB2D, 'strucParams', title='Strucutural Properties Inputs')\n",
    "pp.printInputs(inputsB2D, 'bcs', title='Boundary Conditions Inputs')"
   ]
  },
  {
   "cell_type": "code",
   "execution_count": null,
   "id": "b179eaf3-d84d-4f78-8a67-3a74d18308ce",
   "metadata": {},
   "outputs": [],
   "source": []
  },
  {
   "cell_type": "code",
   "execution_count": null,
   "id": "e042ce6f-d80f-4727-acaa-14363e35aca0",
   "metadata": {},
   "outputs": [],
   "source": [
    "# assemble the system using a given element type\n",
    "sysB2D = b2d.Assemble(mesh)\n",
    "# build the global stiffness matrix \n",
    "sysB2D.buildGlobalMK(inputsB2D.strucParams, elemType=\"EBB\", lumpedMass=False)\n",
    "\n",
    "# apply boundary conditions and get effective DOFs (also remove DOFs with all zeros K, M rows)\n",
    "sysB2D.applyBoundaryConditions(inputsB2D.bcs, retainNonZeroDofsOnly=True, tol=1e-8)"
   ]
  },
  {
   "cell_type": "code",
   "execution_count": null,
   "id": "8c695bab-bd62-423c-9313-5b629dbf5168",
   "metadata": {},
   "outputs": [],
   "source": [
    "# Check all zero rows has been removed - for eigen vectors compuatation, otherwise reduce tol\n",
    "pp.printMatrix(sysB2D.effK)"
   ]
  },
  {
   "cell_type": "code",
   "execution_count": null,
   "id": "ab86c126-81fa-49dc-b03e-1474cf760364",
   "metadata": {},
   "outputs": [],
   "source": [
    "modalAnalysis1 = b2d.Modal(sysB2D)\n",
    "modalAnalysis1.computeModes(nModes=10)"
   ]
  },
  {
   "cell_type": "code",
   "execution_count": null,
   "id": "f5bd67b8-8f78-43c1-9b45-7c100d6977a6",
   "metadata": {},
   "outputs": [],
   "source": [
    "pp.printMatrix(modalAnalysis1.omega)"
   ]
  },
  {
   "cell_type": "code",
   "execution_count": null,
   "id": "d9bf4516-f55d-4387-8ade-e4fa97ad3997",
   "metadata": {},
   "outputs": [],
   "source": [
    "pp.printMatrix(modalAnalysis1.eigVecEff)"
   ]
  },
  {
   "cell_type": "code",
   "execution_count": null,
   "id": "7b4dd7b6-b7e2-4d89-8663-85eeceda7660",
   "metadata": {},
   "outputs": [],
   "source": [
    "modalAnalysis1.plotMode(modeNum=1, scale=1)"
   ]
  },
  {
   "cell_type": "code",
   "execution_count": null,
   "id": "0bb40347-40a0-4a5e-9919-71097d18797f",
   "metadata": {},
   "outputs": [],
   "source": [
    "modalAnalysis1.plotMode(modeNum=2, scale=1)"
   ]
  },
  {
   "cell_type": "markdown",
   "id": "00110b9d-3498-4167-a345-6558f392016d",
   "metadata": {
    "tags": []
   },
   "source": [
    "### Compare with theoratical natural frequencies and mode shape\n",
    "The natural frequencies are given as $Cn(EI/mL^4)^{0.5}$, where m is mass per unit length\n",
    "\n",
    "Cn = 3.5160 for mode 1  \n",
    "Cn = 22.0345 for mode 2 (mode 1st node at 0.774L)  \n",
    "Cn = 61.69 for mode 3   \n",
    "\n",
    "The mode shapes are given by\n",
    "$$\\Phi_n(x)= (cosh(a_n x)- cos(a_n x)) + \\sigma_n(sinh(a_n x - sin(a_n x)) $$\n",
    "where\n",
    "$$ \\sigma_n = \\frac{cos(a_n L) + cosh(a_nL)}{sin(a_n L) + sinh(a_nL)} $$"
   ]
  }
 ],
 "metadata": {
  "kernelspec": {
   "display_name": "venv-beams2d",
   "language": "python",
   "name": "venv-beams2d"
  },
  "language_info": {
   "codemirror_mode": {
    "name": "ipython",
    "version": 3
   },
   "file_extension": ".py",
   "mimetype": "text/x-python",
   "name": "python",
   "nbconvert_exporter": "python",
   "pygments_lexer": "ipython3",
   "version": "3.9.13"
  },
  "toc-autonumbering": true,
  "toc-showcode": false,
  "toc-showmarkdowntxt": true
 },
 "nbformat": 4,
 "nbformat_minor": 5
}
