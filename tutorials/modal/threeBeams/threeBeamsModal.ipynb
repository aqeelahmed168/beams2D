{
 "cells": [
  {
   "cell_type": "markdown",
   "id": "929017e2-4c28-4966-b395-6081d8f196c6",
   "metadata": {
    "tags": []
   },
   "source": [
    "# Three Beams Example with Beams2D\n",
    "\n",
    "Example description\n",
    "![threeBeamsSchema.jpg](figures/threeBeamsSchema.jpg)"
   ]
  },
  {
   "cell_type": "code",
   "execution_count": null,
   "id": "74b7c725-66eb-49ca-bbd6-0bf2b8c08d62",
   "metadata": {},
   "outputs": [],
   "source": [
    "import beams2D as b2d\n",
    "from beams2D import PrettyPrint as pp\n",
    "import numpy as np\n",
    "import matplotlib.pyplot as plt\n",
    "\n",
    "# Read the inputs in the inputsB2D object\n",
    "# inputsB2D = b2d.Inputs(infile=\"inputs.json\")\n",
    "inputsB2D = b2d.Inputs(infile=\"inputs.json\")\n",
    "\n",
    "geom = b2d.Geom(inputsB2D.geom)\n",
    "geom.process(printDebugMessage=0)\n",
    "\n",
    "mesh = b2d.Mesh(inputsB2D.mesh)\n",
    "mesh.process(geom, printDebugMessage=0, printMeshInfo=0)\n",
    "#mesh.writeVTK()"
   ]
  },
  {
   "cell_type": "code",
   "execution_count": null,
   "id": "7d93695e-5696-401e-a8b2-401014344412",
   "metadata": {},
   "outputs": [],
   "source": [
    "# print details of inputs\n",
    "pp.printInputs(inputsB2D, 'geom', title='Geometry/Structures Inputs')\n",
    "pp.printInputs(inputsB2D, 'mesh', title='Mesh Inputs')\n",
    "pp.printInputs(inputsB2D, 'strucParams', title='Strucutural Properties Inputs')\n",
    "pp.printInputs(inputsB2D, 'bcs', title='Boundary Conditions Inputs')"
   ]
  },
  {
   "cell_type": "code",
   "execution_count": null,
   "id": "e042ce6f-d80f-4727-acaa-14363e35aca0",
   "metadata": {},
   "outputs": [],
   "source": [
    "# assemble the system using a given element type\n",
    "sysB2D = b2d.Assemble(mesh)\n",
    "# build the global stiffness matrix \n",
    "sysB2D.buildGlobalMK(inputsB2D.strucParams, elemType=\"EBF\")\n",
    "\n",
    "# apply boundary conditions and get effective DOFs (also remove DOFs with all zeros K, M rows)\n",
    "sysB2D.applyBoundaryConditions(inputsB2D.bcs, retainNonZeroDofsOnly=True, tol=1e-10)"
   ]
  },
  {
   "cell_type": "code",
   "execution_count": null,
   "id": "96c7e71f-12dd-404b-aba5-e92495b64303",
   "metadata": {},
   "outputs": [],
   "source": [
    "# Check all zero rows has been removed - for eigen vectors compuatation, otherwise reduce tol\n",
    "pp.printMatrix(sysB2D.effK)"
   ]
  },
  {
   "cell_type": "code",
   "execution_count": null,
   "id": "7a302300-528e-4f23-a916-e4e11a731529",
   "metadata": {},
   "outputs": [],
   "source": [
    "modalAnalysis1 = b2d.Modal(sysB2D)\n",
    "modalAnalysis1.computeModes(nModes=10)"
   ]
  },
  {
   "cell_type": "code",
   "execution_count": null,
   "id": "64da4b84-fd6c-4adf-9454-0e7571376d36",
   "metadata": {},
   "outputs": [],
   "source": [
    "pp.printMatrix(modalAnalysis1.omega)"
   ]
  },
  {
   "cell_type": "code",
   "execution_count": null,
   "id": "4f51e064-0f85-41a7-96c9-f1d2d1c94c1a",
   "metadata": {},
   "outputs": [],
   "source": [
    "modalAnalysis1.plotMode(modeNum=2, scale=1)"
   ]
  }
 ],
 "metadata": {
  "kernelspec": {
   "display_name": "Python 3 (ipykernel)",
   "language": "python",
   "name": "python3"
  },
  "language_info": {
   "codemirror_mode": {
    "name": "ipython",
    "version": 3
   },
   "file_extension": ".py",
   "mimetype": "text/x-python",
   "name": "python",
   "nbconvert_exporter": "python",
   "pygments_lexer": "ipython3",
   "version": "3.9.13"
  },
  "toc-autonumbering": true,
  "toc-showcode": false,
  "toc-showmarkdowntxt": true
 },
 "nbformat": 4,
 "nbformat_minor": 5
}
