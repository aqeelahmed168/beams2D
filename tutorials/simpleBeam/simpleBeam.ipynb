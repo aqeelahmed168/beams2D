{
 "cells": [
  {
   "cell_type": "code",
   "execution_count": null,
   "id": "b3a9c5e3-ab4a-4682-ad3f-3ea69b1730ed",
   "metadata": {
    "tags": []
   },
   "outputs": [],
   "source": [
    "import beams2D as b2d\n",
    "from beams2D import PrettyPrint as pp\n",
    "\n",
    "inputsB2D = b2d.Inputs(infile=\"inputs.json\")\n",
    "\n",
    "geom = b2d.Geom(inputsB2D.geom)\n",
    "geom.process()\n",
    "geom.writeVTK()\n",
    "\n",
    "mesh = b2d.Mesh(inputsB2D.mesh)\n",
    "mesh.process(geom, printMeshInfo=0)\n",
    "# save as vtk\n",
    "mesh.writeVTK()"
   ]
  },
  {
   "cell_type": "code",
   "execution_count": null,
   "id": "9da06331-1341-44a9-b6c5-3d797aca35fd",
   "metadata": {
    "tags": []
   },
   "outputs": [],
   "source": [
    "# assemble the system using a given element type\n",
    "sysB2D = b2d.Assemble(mesh)\n",
    "# build the global stiffness matrix \n",
    "sysB2D.buildGlobalMK(inputsB2D.strucParams, elemType=\"EBB\")"
   ]
  },
  {
   "cell_type": "code",
   "execution_count": null,
   "id": "65b6247f-3d15-4391-8384-403989372c34",
   "metadata": {},
   "outputs": [],
   "source": [
    "# apply boundary conditions and get effective DOFs\n",
    "sysB2D.applyBoundaryConditions(inputsB2D.bcs)\n",
    "# print fixed nodes\n",
    "pp.printMatrix(sysB2D.fixedNodes, text='Fixed Nodes')"
   ]
  },
  {
   "cell_type": "code",
   "execution_count": null,
   "id": "df77a557-3ae4-4d62-8de4-d9d37e5279d9",
   "metadata": {},
   "outputs": [],
   "source": [
    "# show effective stiffness and mass matrix\n",
    "pp.printMatrix(sysB2D.effK, text='Effective Stiffness Matrix')\n",
    "pp.printMatrix(sysB2D.effM, text='Effective Mass Matrix')"
   ]
  }
 ],
 "metadata": {
  "kernelspec": {
   "display_name": "venv-beams2d",
   "language": "python",
   "name": "venv-beams2d"
  },
  "language_info": {
   "codemirror_mode": {
    "name": "ipython",
    "version": 3
   },
   "file_extension": ".py",
   "mimetype": "text/x-python",
   "name": "python",
   "nbconvert_exporter": "python",
   "pygments_lexer": "ipython3",
   "version": "3.9.13"
  },
  "toc-autonumbering": true,
  "toc-showcode": false,
  "toc-showmarkdowntxt": true,
  "vscode": {
   "interpreter": {
    "hash": "aee8b7b246df8f9039afb4144a1f6fd8d2ca17a180786b69acc140d282b71a49"
   }
  }
 },
 "nbformat": 4,
 "nbformat_minor": 5
}
